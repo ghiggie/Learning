{
 "cells": [
  {
   "cell_type": "code",
   "execution_count": 21,
   "metadata": {},
   "outputs": [
    {
     "name": "stdout",
     "output_type": "stream",
     "text": [
      "[ 4.32514001 -0.01513596]\n",
      "[ 4.14906296 -0.01278474]\n",
      "0.00058793841789\n",
      "0.00041505232609\n"
     ]
    }
   ],
   "source": [
    "import numpy as np\n",
    "import matplotlib.pyplot as plt\n",
    "\n",
    "def hyp(theta, x):\n",
    "    return theta[0] + theta[1] * x\n",
    "\n",
    "def cost(theta, x, y):\n",
    "    return np.sum((hyp(theta, x) - y) ** 2) / (2 * len(x))\n",
    "\n",
    "def cost_deriv0(theta, x, y):\n",
    "    return np.sum(hyp(theta, x) - y) / len(x)\n",
    "\n",
    "def cost_deriv1(theta, x, y):\n",
    "    return np.sum((hyp(theta, x) - y) * x) / len(x)\n",
    "\n",
    "def grad_descent(theta, x, y, alpha):\n",
    "    tmp0 = theta[0] - alpha * cost_deriv0(theta, x, y)\n",
    "    tmp1 = theta[1] - alpha * cost_deriv1(theta, x, y)\n",
    "    theta[0] = tmp0\n",
    "    theta[1] = tmp1\n",
    "    return theta\n",
    "\n",
    "# This is the file where the data is stored.\n",
    "file_in = 'coffee_data_messy.txt'\n",
    "\n",
    "# Compute number of lines in file. Kinda sloppy but it works\n",
    "with open(file_in, 'r') as f_in:\n",
    "    for i, l in enumerate(f_in):\n",
    "        pass\n",
    "    len_file = i + 1\n",
    "\n",
    "# Open the file\n",
    "\n",
    "f_in = open(file_in, 'r')\n",
    "\n",
    "# Set up the data storage. Also kinda sloppy, but it works\n",
    "data = np.zeros((len_file - 2, 3), dtype = float)\n",
    "details = f_in.readline()\n",
    "columns = f_in.readline()\n",
    "i = 0\n",
    "for line in f_in:\n",
    "    data[i, :] = [np.float(x) for x in line.replace('\\n', '').split(' ')]\n",
    "    i = i + 1\n",
    "\n",
    "x = data[:, 0]\n",
    "y1 = data[:, 1]\n",
    "y2 = data[:, 2]\n",
    "y1_log = np.log(y1)\n",
    "y2_log = np.log(y2)\n",
    "\n",
    "theta1 = np.array([1, 1], dtype = float) # Initial guess for the line for y1\n",
    "theta2 = np.array([1, 1], dtype = float) # initial guess for the line for y2\n",
    "alpha = 0.002\n",
    "\n",
    "for i in range(10000):\n",
    "    theta1 = grad_descent(theta1, x, y1_log, alpha)\n",
    "    theta2 = grad_descent(theta2, x, y2_log, alpha)\n",
    "\n",
    "print(theta1)\n",
    "print(theta2)\n",
    "print(cost(theta1, x, y1_log))\n",
    "print(cost(theta2, x, y2_log))"
   ]
  },
  {
   "cell_type": "code",
   "execution_count": 24,
   "metadata": {},
   "outputs": [
    {
     "data": {
      "image/png": "[encoded data removed]",
      "text/plain": [
       "<matplotlib.figure.Figure at 0x7f2faf2d05c0>"
      ]
     },
     "metadata": {
      "needs_background": "light"
     },
     "output_type": "display_data"
    }
   ],
   "source": [
    "# Create a line for the regressions\n",
    "y1_log_reg = theta1[0] + theta1[1]*x\n",
    "y2_log_reg = theta2[0] + theta2[1]*x\n",
    "\n",
    "plt.scatter(x, y1_log, label='black coffee')\n",
    "plt.scatter(x, y2_log, label='coffee with cream')\n",
    "plt.plot(x, y1_log_reg)\n",
    "plt.plot(x, y2_log_reg)\n",
    "plt.legend()\n",
    "plt.show()"
   ]
  },
  {
   "cell_type": "code",
   "execution_count": 25,
   "metadata": {},
   "outputs": [
    {
     "name": "stdout",
     "output_type": "stream",
     "text": [
      "0.0151359568203\n"
     ]
    }
   ],
   "source": [
    "# The cooling constant for the black coffee is given by\n",
    "print(np.abs(theta1[1]))"
   ]
  },
  {
   "cell_type": "code",
   "execution_count": 26,
   "metadata": {},
   "outputs": [
    {
     "name": "stdout",
     "output_type": "stream",
     "text": [
      "0.0127847392577\n"
     ]
    }
   ],
   "source": [
    "# and the cooling constant for coffee with cream is given by\n",
    "print(np.abs(theta2[1]))"
   ]
  },
  {
   "cell_type": "code",
   "execution_count": null,
   "metadata": {},
   "outputs": [],
   "source": []
  }
 ],
 "metadata": {
  "kernelspec": {
   "display_name": "Python 3",
   "language": "python",
   "name": "python3"
  },
  "language_info": {
   "codemirror_mode": {
    "name": "ipython",
    "version": 3
   },
   "file_extension": ".py",
   "mimetype": "text/x-python",
   "name": "python",
   "nbconvert_exporter": "python",
   "pygments_lexer": "ipython3",
   "version": "3.6.8"
  }
 },
 "nbformat": 4,
 "nbformat_minor": 2
}
